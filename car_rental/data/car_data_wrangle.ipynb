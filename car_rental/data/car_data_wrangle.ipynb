{
 "cells": [
  {
   "cell_type": "code",
   "execution_count": 4,
   "id": "95833c47",
   "metadata": {},
   "outputs": [
    {
     "name": "stdout",
     "output_type": "stream",
     "text": [
      "C:\\Users\\Wesley Fang\\Desktop\\awd_midterm\\car_rental\n"
     ]
    }
   ],
   "source": [
    "import os\n",
    "import sys\n",
    "import django\n",
    "import pprint\n",
    "from collections import defaultdict\n",
    "from pathlib import Path\n",
    "import csv\n",
    "BASE_DIR = r'C:\\Users\\Wesley Fang\\Desktop\\awd_midterm\\car_rental'\n",
    "sys.path.append(str(BASE_DIR))\n",
    "os.environ.setdefault('DJANGO_SETTINGS_MODULE', 'car_rental.settings')\n",
    "os.environ[\"DJANGO_ALLOW_ASYNC_UNSAFE\"] = \"true\"\n",
    "django.setup()\n",
    "print(BASE_DIR)\n",
    "from america_car_renting.models import *"
   ]
  },
  {
   "cell_type": "code",
   "execution_count": 27,
   "id": "13e05611",
   "metadata": {},
   "outputs": [],
   "source": [
    "from django.db.models import Avg,Min,Max,Count,Sum"
   ]
  },
  {
   "cell_type": "code",
   "execution_count": 5,
   "id": "52603b4d",
   "metadata": {},
   "outputs": [
    {
     "data": {
      "text/plain": [
       "<QuerySet [<City: Milwaukie>, <City: Kapolei>, <City: Bloomington>, <City: Boulder>, <City: Cedar Park>, <City: Rochester>, <City: Costa Mesa>, <City: Lexington>, <City: Hilliard>, <City: Eastvale>, <City: Glenview>, <City: Coeur d'Alene>, <City: Norristown>, <City: Ijamsville>, <City: Towson>, <City: Teaneck>, <City: Torrance>, <City: Seminole>, <City: Hendersonville>, <City: North Haven>, '...(remaining elements truncated)...']>"
      ]
     },
     "execution_count": 5,
     "metadata": {},
     "output_type": "execute_result"
    }
   ],
   "source": [
    "City.objects.all()"
   ]
  },
  {
   "cell_type": "code",
   "execution_count": 7,
   "id": "83ed3a09",
   "metadata": {},
   "outputs": [],
   "source": [
    "q = Vehicle.objects.values('fuel_type').annotate(num_vehicles=Count('fuel_type'))"
   ]
  },
  {
   "cell_type": "code",
   "execution_count": 8,
   "id": "fb2e1dd6",
   "metadata": {},
   "outputs": [
    {
     "data": {
      "text/plain": [
       "[{'fuel_type': 'DIESEL', 'num_vehicles': 61},\n",
       " {'fuel_type': 'ELECTRIC', 'num_vehicles': 569},\n",
       " {'fuel_type': 'GASOLINE', 'num_vehicles': 4402},\n",
       " {'fuel_type': 'HYBRID', 'num_vehicles': 253}]"
      ]
     },
     "execution_count": 8,
     "metadata": {},
     "output_type": "execute_result"
    }
   ],
   "source": [
    "[l for l in q]"
   ]
  },
  {
   "cell_type": "code",
   "execution_count": 10,
   "id": "c9dc9cc6",
   "metadata": {},
   "outputs": [
    {
     "data": {
      "text/plain": [
       "<QuerySet [{'city_name': 'Aberdeen Township', 'vehicle__fuel_type': 'GASOLINE', 'num_vehicles': 3}, {'city_name': 'Addison', 'vehicle__fuel_type': 'GASOLINE', 'num_vehicles': 4}, {'city_name': 'Addison', 'vehicle__fuel_type': 'HYBRID', 'num_vehicles': 2}, {'city_name': 'Aiea', 'vehicle__fuel_type': 'GASOLINE', 'num_vehicles': 5}, {'city_name': 'Aiea', 'vehicle__fuel_type': 'HYBRID', 'num_vehicles': 1}, {'city_name': 'Airway Heights', 'vehicle__fuel_type': 'GASOLINE', 'num_vehicles': 1}, {'city_name': 'Akron', 'vehicle__fuel_type': 'GASOLINE', 'num_vehicles': 2}, {'city_name': 'Alameda', 'vehicle__fuel_type': 'GASOLINE', 'num_vehicles': 8}, {'city_name': 'Alameda', 'vehicle__fuel_type': 'HYBRID', 'num_vehicles': 2}, {'city_name': 'Albuquerque', 'vehicle__fuel_type': 'ELECTRIC', 'num_vehicles': 1}, {'city_name': 'Albuquerque', 'vehicle__fuel_type': 'GASOLINE', 'num_vehicles': 16}, {'city_name': 'Albuquerque', 'vehicle__fuel_type': 'HYBRID', 'num_vehicles': 3}, {'city_name': 'Alexander', 'vehicle__fuel_type': 'GASOLINE', 'num_vehicles': 1}, {'city_name': 'Alexandria', 'vehicle__fuel_type': 'GASOLINE', 'num_vehicles': 8}, {'city_name': 'Aliquippa', 'vehicle__fuel_type': 'ELECTRIC', 'num_vehicles': 1}, {'city_name': 'Aliso Viejo', 'vehicle__fuel_type': 'ELECTRIC', 'num_vehicles': 1}, {'city_name': 'Aliso Viejo', 'vehicle__fuel_type': 'GASOLINE', 'num_vehicles': 1}, {'city_name': 'Aloha', 'vehicle__fuel_type': 'GASOLINE', 'num_vehicles': 1}, {'city_name': 'Alpharetta', 'vehicle__fuel_type': 'ELECTRIC', 'num_vehicles': 1}, {'city_name': 'Alpharetta', 'vehicle__fuel_type': 'GASOLINE', 'num_vehicles': 1}, '...(remaining elements truncated)...']>"
      ]
     },
     "execution_count": 10,
     "metadata": {},
     "output_type": "execute_result"
    }
   ],
   "source": [
    "City.objects.values('city_name','vehicle__fuel_type').annotate(num_vehicles=Count('vehicle__fuel_type'))"
   ]
  },
  {
   "cell_type": "code",
   "execution_count": 12,
   "id": "b6c6c8b1",
   "metadata": {},
   "outputs": [
    {
     "data": {
      "text/plain": [
       "<QuerySet [{'vehicle_make': 'Tesla', 'num_EVs': 545}, {'vehicle_make': 'Chevrolet', 'num_EVs': 9}, {'vehicle_make': 'Nissan', 'num_EVs': 5}, {'vehicle_make': 'BMW', 'num_EVs': 5}, {'vehicle_make': 'Kia', 'num_EVs': 2}, {'vehicle_make': 'smart', 'num_EVs': 1}, {'vehicle_make': 'Volkswagen', 'num_EVs': 1}, {'vehicle_make': 'FIAT', 'num_EVs': 1}]>"
      ]
     },
     "execution_count": 12,
     "metadata": {},
     "output_type": "execute_result"
    }
   ],
   "source": [
    "Vehicle.objects.filter(fuel_type__exact = 'ELECTRIC').values('vehicle_make').annotate(num_EVs=Count('vehicle_make')).order_by('-num_EVs') \n"
   ]
  },
  {
   "cell_type": "code",
   "execution_count": 34,
   "id": "1c0bc59d",
   "metadata": {},
   "outputs": [],
   "source": [
    "q =Vehicle.objects.values('vehicle_model').annotate(review_count=Sum('review_count'),ranking=Avg('ranking')).filter(review_count__gt=1000).order_by('-ranking') \n"
   ]
  },
  {
   "cell_type": "code",
   "execution_count": 36,
   "id": "c64a1987",
   "metadata": {},
   "outputs": [
    {
     "data": {
      "text/plain": [
       "<QuerySet [{'vehicle_model': 'F-TYPE', 'review_count': 1283, 'ranking': Decimal('4.97870967741935')}, {'vehicle_model': 'Corvette Stingray', 'review_count': 1204, 'ranking': Decimal('4.96437500000000')}, {'vehicle_model': 'i8', 'review_count': 1249, 'ranking': Decimal('4.96107142857143')}, {'vehicle_model': 'Model X', 'review_count': 3141, 'ranking': Decimal('4.95858490566038')}, {'vehicle_model': '911', 'review_count': 1693, 'ranking': Decimal('4.95472222222222')}, {'vehicle_model': 'Challenger', 'review_count': 1749, 'ranking': Decimal('4.95404761904762')}, {'vehicle_model': 'Model 3', 'review_count': 8897, 'ranking': Decimal('4.95401337792643')}, {'vehicle_model': 'F-150', 'review_count': 1068, 'ranking': Decimal('4.95116279069767')}, {'vehicle_model': 'Wrangler', 'review_count': 4104, 'ranking': Decimal('4.95078947368421')}, {'vehicle_model': 'M4', 'review_count': 1022, 'ranking': Decimal('4.95000000000000')}, {'vehicle_model': 'Camaro', 'review_count': 2554, 'ranking': Decimal('4.94938461538461')}, {'vehicle_model': 'Corvette', 'review_count': 3946, 'ranking': Decimal('4.94575342465753')}, {'vehicle_model': 'Model S', 'review_count': 3469, 'ranking': Decimal('4.94419354838710')}, {'vehicle_model': 'Outback', 'review_count': 1022, 'ranking': Decimal('4.93969696969697')}, {'vehicle_model': 'Altima', 'review_count': 1711, 'ranking': Decimal('4.92869565217391')}, {'vehicle_model': 'Boxster', 'review_count': 2297, 'ranking': Decimal('4.92800000000000')}, {'vehicle_model': 'C-Class', 'review_count': 2927, 'ranking': Decimal('4.92183673469388')}, {'vehicle_model': 'Prius', 'review_count': 2722, 'ranking': Decimal('4.91927536231884')}, {'vehicle_model': '500', 'review_count': 1051, 'ranking': Decimal('4.91923076923077')}, {'vehicle_model': 'Civic', 'review_count': 2410, 'ranking': Decimal('4.91244444444444')}, '...(remaining elements truncated)...']>"
      ]
     },
     "execution_count": 36,
     "metadata": {},
     "output_type": "execute_result"
    }
   ],
   "source": [
    "q"
   ]
  },
  {
   "cell_type": "code",
   "execution_count": 37,
   "id": "fee9f841",
   "metadata": {},
   "outputs": [
    {
     "data": {
      "text/plain": [
       "42"
      ]
     },
     "execution_count": 37,
     "metadata": {},
     "output_type": "execute_result"
    }
   ],
   "source": [
    "len(q)"
   ]
  }
 ],
 "metadata": {
  "kernelspec": {
   "display_name": "Django Shell-Plus",
   "language": "python",
   "name": "django_extensions"
  },
  "language_info": {
   "codemirror_mode": {
    "name": "ipython",
    "version": 3
   },
   "file_extension": ".py",
   "mimetype": "text/x-python",
   "name": "python",
   "nbconvert_exporter": "python",
   "pygments_lexer": "ipython3",
   "version": "3.11.0"
  }
 },
 "nbformat": 4,
 "nbformat_minor": 5
}
