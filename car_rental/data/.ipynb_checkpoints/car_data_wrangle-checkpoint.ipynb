{
 "cells": [
  {
   "cell_type": "code",
   "execution_count": 1,
   "id": "95833c47",
   "metadata": {},
   "outputs": [
    {
     "name": "stdout",
     "output_type": "stream",
     "text": [
      "C:\\Users\\Wesley Fang\\Desktop\\awd_midterm\\car_rental\n"
     ]
    }
   ],
   "source": [
    "import os\n",
    "import sys\n",
    "import django\n",
    "import pprint\n",
    "from collections import defaultdict\n",
    "from pathlib import Path\n",
    "import csv\n",
    "BASE_DIR = r'C:\\Users\\Wesley Fang\\Desktop\\awd_midterm\\car_rental'\n",
    "sys.path.append(str(BASE_DIR))\n",
    "os.environ.setdefault('DJANGO_SETTINGS_MODULE', 'car_rental.settings')\n",
    "os.environ[\"DJANGO_ALLOW_ASYNC_UNSAFE\"] = \"true\"\n",
    "django.setup()\n",
    "print(BASE_DIR)\n",
    "from america_car_renting.models import *"
   ]
  },
  {
   "cell_type": "code",
   "execution_count": 2,
   "id": "90544391",
   "metadata": {},
   "outputs": [],
   "source": [
    "data_file = os.path.join(BASE_DIR, 'data\\CarRentalData_cleaned.csv')\n"
   ]
  },
  {
   "cell_type": "code",
   "execution_count": 3,
   "id": "2778c0ef",
   "metadata": {},
   "outputs": [],
   "source": [
    "vehicle = defaultdict(dict)\n",
    "state = set()\n",
    "city = set()\n",
    "vehicle_renting = set()"
   ]
  },
  {
   "cell_type": "code",
   "execution_count": 4,
   "id": "c6d836ae",
   "metadata": {},
   "outputs": [],
   "source": [
    "with open(data_file) as csv_file:\n",
    "    csv_reader = csv.reader(csv_file, delimiter=',')\n",
    "    header = csv_reader.__next__()\n",
    "#     print(header)\n",
    "    for row in csv_reader:\n",
    "        state.add(row[6])\n",
    "        vehicle[row[0]] = row[1:6] + row[8:13]\n",
    "        city.add((row[5],row[6]))\n",
    "        vehicle_renting.add((row[7],row[0]))\n",
    "\n",
    "    "
   ]
  },
  {
   "cell_type": "code",
   "execution_count": 5,
   "id": "2dcadafc",
   "metadata": {},
   "outputs": [
    {
     "data": {
      "text/plain": [
       "(0, {})"
      ]
     },
     "execution_count": 5,
     "metadata": {},
     "output_type": "execute_result"
    }
   ],
   "source": [
    "City.objects.all().delete()\n",
    "State.objects.all().delete()\n",
    "Vehicle.objects.all().delete()\n",
    "Vehicle_renting.objects.all().delete()"
   ]
  },
  {
   "cell_type": "code",
   "execution_count": 6,
   "id": "5986008b",
   "metadata": {},
   "outputs": [],
   "source": [
    "state_rows = {}\n",
    "city_rows = {}\n",
    "vehicle_rows = {}\n",
    "vehicle_renting_rows = {}"
   ]
  },
  {
   "cell_type": "code",
   "execution_count": 7,
   "id": "9d616ecf",
   "metadata": {},
   "outputs": [],
   "source": [
    "for item in state:\n",
    "    row = State.objects.create(state_name=item)\n",
    "    row.save()\n",
    "    state_rows[item]=row"
   ]
  },
  {
   "cell_type": "code",
   "execution_count": 8,
   "id": "7d87f875",
   "metadata": {},
   "outputs": [
    {
     "data": {
      "text/plain": [
       "america_car_renting.models.State"
      ]
     },
     "execution_count": 8,
     "metadata": {},
     "output_type": "execute_result"
    }
   ],
   "source": [
    "type(state_rows['TX'])"
   ]
  },
  {
   "cell_type": "code",
   "execution_count": 9,
   "id": "a914c0ed",
   "metadata": {},
   "outputs": [],
   "source": [
    "for item in city:\n",
    "    row = City.objects.create(city_name=item[0],state=state_rows[item[1]])\n",
    "    row.save()\n",
    "    city_rows[item[0]]=row"
   ]
  },
  {
   "cell_type": "code",
   "execution_count": 10,
   "id": "be66d93d",
   "metadata": {},
   "outputs": [
    {
     "data": {
      "text/plain": [
       "['ELECTRIC',\n",
       " '5',\n",
       " '13',\n",
       " '12',\n",
       " 'Seattle',\n",
       " '135',\n",
       " 'Tesla',\n",
       " 'Model X',\n",
       " 'suv',\n",
       " '2019']"
      ]
     },
     "execution_count": 10,
     "metadata": {},
     "output_type": "execute_result"
    }
   ],
   "source": [
    "vehicle['1']"
   ]
  },
  {
   "cell_type": "code",
   "execution_count": 11,
   "id": "49b3d012",
   "metadata": {},
   "outputs": [],
   "source": [
    "for vehicle_id,data in vehicle.items():\n",
    "    row = Vehicle.objects.create(vehicle_id =vehicle_id,\n",
    "                                    fuel_type=data[0],\n",
    "                                    ranking = data[1],\n",
    "                                    renter_trips_taken = data[2],\n",
    "                                     review_count = data[3],\n",
    "                                     rate_daily = data[5],\n",
    "                                     vehicle_make = data[6],\n",
    "                                     vehicle_model = data[7],\n",
    "                                     vehicle_type = data[8],\n",
    "                                     vehicle_year = data[9],\n",
    "                                     city = city_rows[data[4]])\n",
    "    row.save()\n",
    "    vehicle_rows[vehicle_id] = row"
   ]
  },
  {
   "cell_type": "code",
   "execution_count": 14,
   "id": "63e8e290",
   "metadata": {},
   "outputs": [
    {
     "data": {
      "text/plain": [
       "'Seattle'"
      ]
     },
     "execution_count": 14,
     "metadata": {},
     "output_type": "execute_result"
    }
   ],
   "source": [
    "Vehicle.objects.all()[0].city.city_name"
   ]
  },
  {
   "cell_type": "code",
   "execution_count": 13,
   "id": "f81eca1a",
   "metadata": {},
   "outputs": [],
   "source": [
    "for item in vehicle_renting:\n",
    "    row = Vehicle_renting.objects.create(owner_id = item[0],\n",
    "                                        vehicle = vehicle_rows[item[1]]\n",
    "                                        )\n",
    "    row.save()\n",
    "    vehicle_renting_rows[item[0]] = row"
   ]
  },
  {
   "cell_type": "code",
   "execution_count": 16,
   "id": "2e249d75",
   "metadata": {},
   "outputs": [
    {
     "data": {
      "text/plain": [
       "'1505'"
      ]
     },
     "execution_count": 16,
     "metadata": {},
     "output_type": "execute_result"
    }
   ],
   "source": []
  }
 ],
 "metadata": {
  "kernelspec": {
   "display_name": "Django Shell-Plus",
   "language": "python",
   "name": "django_extensions"
  },
  "language_info": {
   "codemirror_mode": {
    "name": "ipython",
    "version": 3
   },
   "file_extension": ".py",
   "mimetype": "text/x-python",
   "name": "python",
   "nbconvert_exporter": "python",
   "pygments_lexer": "ipython3",
   "version": "3.11.0"
  }
 },
 "nbformat": 4,
 "nbformat_minor": 5
}
