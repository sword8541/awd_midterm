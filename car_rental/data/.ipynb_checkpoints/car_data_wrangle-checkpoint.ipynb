{
 "cells": [
  {
   "cell_type": "code",
   "execution_count": 4,
   "id": "95833c47",
   "metadata": {},
   "outputs": [
    {
     "name": "stdout",
     "output_type": "stream",
     "text": [
      "C:\\Users\\Wesley Fang\\Desktop\\awd_midterm\\car_rental\n"
     ]
    }
   ],
   "source": [
    "import os\n",
    "import sys\n",
    "import django\n",
    "import pprint\n",
    "from collections import defaultdict\n",
    "from pathlib import Path\n",
    "import csv\n",
    "BASE_DIR = r'C:\\Users\\Wesley Fang\\Desktop\\awd_midterm\\car_rental'\n",
    "sys.path.append(str(BASE_DIR))\n",
    "os.environ.setdefault('DJANGO_SETTINGS_MODULE', 'car_rental.settings')\n",
    "os.environ[\"DJANGO_ALLOW_ASYNC_UNSAFE\"] = \"true\"\n",
    "django.setup()\n",
    "print(BASE_DIR)\n",
    "from america_car_renting.models import *"
   ]
  },
  {
   "cell_type": "code",
   "execution_count": 5,
   "id": "52603b4d",
   "metadata": {},
   "outputs": [
    {
     "data": {
      "text/plain": [
       "<QuerySet [<City: Milwaukie>, <City: Kapolei>, <City: Bloomington>, <City: Boulder>, <City: Cedar Park>, <City: Rochester>, <City: Costa Mesa>, <City: Lexington>, <City: Hilliard>, <City: Eastvale>, <City: Glenview>, <City: Coeur d'Alene>, <City: Norristown>, <City: Ijamsville>, <City: Towson>, <City: Teaneck>, <City: Torrance>, <City: Seminole>, <City: Hendersonville>, <City: North Haven>, '...(remaining elements truncated)...']>"
      ]
     },
     "execution_count": 5,
     "metadata": {},
     "output_type": "execute_result"
    }
   ],
   "source": [
    "City.objects.all()"
   ]
  },
  {
   "cell_type": "code",
   "execution_count": null,
   "id": "83ed3a09",
   "metadata": {},
   "outputs": [],
   "source": []
  },
  {
   "cell_type": "code",
   "execution_count": null,
   "id": "fb2e1dd6",
   "metadata": {},
   "outputs": [],
   "source": []
  },
  {
   "cell_type": "code",
   "execution_count": null,
   "id": "c9dc9cc6",
   "metadata": {},
   "outputs": [],
   "source": []
  },
  {
   "cell_type": "code",
   "execution_count": null,
   "id": "b6c6c8b1",
   "metadata": {},
   "outputs": [],
   "source": []
  },
  {
   "cell_type": "code",
   "execution_count": null,
   "id": "1c0bc59d",
   "metadata": {},
   "outputs": [],
   "source": []
  },
  {
   "cell_type": "code",
   "execution_count": null,
   "id": "c64a1987",
   "metadata": {},
   "outputs": [],
   "source": []
  },
  {
   "cell_type": "code",
   "execution_count": null,
   "id": "fee9f841",
   "metadata": {},
   "outputs": [],
   "source": []
  }
 ],
 "metadata": {
  "kernelspec": {
   "display_name": "Django Shell-Plus",
   "language": "python",
   "name": "django_extensions"
  },
  "language_info": {
   "codemirror_mode": {
    "name": "ipython",
    "version": 3
   },
   "file_extension": ".py",
   "mimetype": "text/x-python",
   "name": "python",
   "nbconvert_exporter": "python",
   "pygments_lexer": "ipython3",
   "version": "3.11.0"
  }
 },
 "nbformat": 4,
 "nbformat_minor": 5
}
